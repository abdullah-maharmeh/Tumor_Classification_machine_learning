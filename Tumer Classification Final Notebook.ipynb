{
 "cells": [
  {
   "cell_type": "code",
   "execution_count": 1,
   "metadata": {
    "id": "2O-eRPNlVH-y"
   },
   "outputs": [
    {
     "name": "stderr",
     "output_type": "stream",
     "text": [
      "C:\\Users\\abdullah\\anaconda3\\lib\\site-packages\\scipy\\__init__.py:146: UserWarning: A NumPy version >=1.16.5 and <1.23.0 is required for this version of SciPy (detected version 1.25.2\n",
      "  warnings.warn(f\"A NumPy version >={np_minversion} and <{np_maxversion}\"\n"
     ]
    }
   ],
   "source": [
    "\n",
    "import matplotlib.pyplot as plt\n",
    "from sklearn.model_selection import train_test_split\n",
    "from skimage import io, transform, color\n",
    "from skimage.feature import hog\n",
    "from sklearn.decomposition import PCA\n",
    "from sklearn.svm import SVC\n",
    "from sklearn.metrics import accuracy_score, confusion_matrix, classification_report\n",
    "from sklearn.model_selection import GridSearchCV\n",
    "import glob\n",
    "import numpy as np\n",
    "import pandas as pd\n",
    "import seaborn as sns\n",
    "from PIL import Image\n",
    "import os\n",
    "from tqdm import tqdm\n",
    "import cv2\n",
    "import shutil"
   ]
  },
  {
   "cell_type": "code",
   "execution_count": 2,
   "metadata": {
    "id": "USPmVxgEWgYY"
   },
   "outputs": [],
   "source": [
    "# Load and preprocess training images\n",
    "image_folder   = 'C:\\\\Users\\\\abdullah\\\\Desktop\\\\All Files\\\\Abdullah file\\\\Learning hub\\\\Compettetion\\\\Tumor classification\\\\images\\\\images'"
   ]
  },
  {
   "cell_type": "code",
   "execution_count": 3,
   "metadata": {
    "id": "v94shgk3WmmN"
   },
   "outputs": [],
   "source": [
    "train  = pd.read_csv('trainset.csv')\n",
    "test   = pd.read_csv('testset.csv')"
   ]
  },
  {
   "cell_type": "code",
   "execution_count": 4,
   "metadata": {
    "id": "GHbXiVzfX2vj"
   },
   "outputs": [],
   "source": [
    "images = os.listdir(image_folder)\n",
    "id_train = dict(zip(train['Id'], train['Class']))"
   ]
  },
  {
   "cell_type": "code",
   "execution_count": 5,
   "metadata": {
    "id": "ij-LKynBYEql"
   },
   "outputs": [],
   "source": [
    "# create a list for both images and labels\n",
    "train_imgs = []\n",
    "train_label = []"
   ]
  },
  {
   "cell_type": "code",
   "execution_count": 6,
   "metadata": {},
   "outputs": [
    {
     "name": "stderr",
     "output_type": "stream",
     "text": [
      "539it [00:06, 88.46it/s]\n"
     ]
    }
   ],
   "source": [
    "for cla,id in tqdm(zip(train['Class'],train['Id'])):\n",
    "    try:\n",
    "        i = cv2.imread(image_folder+'\\\\'+str(id)+'.png')\n",
    "        train_imgs.append(i)\n",
    "        train_label.append(cla)\n",
    "    except:\n",
    "        pass"
   ]
  },
  {
   "cell_type": "code",
   "execution_count": 7,
   "metadata": {
    "colab": {
     "base_uri": "https://localhost:8080/"
    },
    "id": "duGyAmvgY2-1",
    "outputId": "93d1fd70-46a1-4938-be84-ee140fda37d5"
   },
   "outputs": [
    {
     "name": "stderr",
     "output_type": "stream",
     "text": [
      "100%|██████████| 229/229 [00:02<00:00, 86.58it/s]\n"
     ]
    }
   ],
   "source": [
    "test_imgs = []\n",
    "for id in tqdm(test['Id']):\n",
    "    try:\n",
    "        i = cv2.imread(image_folder+'\\\\'+str(id)+'.png')\n",
    "        test_imgs.append(i)\n",
    "    except:\n",
    "        pass"
   ]
  },
  {
   "cell_type": "code",
   "execution_count": 8,
   "metadata": {},
   "outputs": [
    {
     "data": {
      "text/plain": [
       "229"
      ]
     },
     "execution_count": 8,
     "metadata": {},
     "output_type": "execute_result"
    }
   ],
   "source": [
    "len(test_imgs)"
   ]
  },
  {
   "cell_type": "code",
   "execution_count": 9,
   "metadata": {},
   "outputs": [
    {
     "data": {
      "text/plain": [
       "(467, 551, 3)"
      ]
     },
     "execution_count": 9,
     "metadata": {},
     "output_type": "execute_result"
    }
   ],
   "source": [
    "test_imgs[0].shape"
   ]
  },
  {
   "cell_type": "code",
   "execution_count": 10,
   "metadata": {},
   "outputs": [
    {
     "name": "stderr",
     "output_type": "stream",
     "text": [
      "100%|██████████| 539/539 [10:42<00:00,  1.19s/it]\n",
      "100%|██████████| 229/229 [04:37<00:00,  1.21s/it]"
     ]
    },
    {
     "name": "stdout",
     "output_type": "stream",
     "text": [
      "539\n",
      "229\n"
     ]
    },
    {
     "name": "stderr",
     "output_type": "stream",
     "text": [
      "\n"
     ]
    }
   ],
   "source": [
    "L1=[]\n",
    "L2=[]\n",
    "for img1 in tqdm(train_imgs):\n",
    "    filtered_train = cv2.pyrMeanShiftFiltering(img1, 21, 51)\n",
    "    L1.append(filtered_train)\n",
    "for img2 in tqdm(test_imgs):\n",
    "    filtered_test = cv2.pyrMeanShiftFiltering(img2, 21, 51)\n",
    "    L2.append(filtered_test)\n",
    "print(len(L1))\n",
    "print(len(L2))"
   ]
  },
  {
   "cell_type": "code",
   "execution_count": 11,
   "metadata": {},
   "outputs": [],
   "source": [
    "train_imgs = L1\n",
    "test_imgs =L2"
   ]
  },
  {
   "cell_type": "markdown",
   "metadata": {
    "id": "WtYqq9D_a5Ut"
   },
   "source": [
    "# resize the images"
   ]
  },
  {
   "cell_type": "code",
   "execution_count": 12,
   "metadata": {
    "id": "17MVIfokazZZ"
   },
   "outputs": [],
   "source": [
    "New_Images = []\n",
    "# Loop through each image in X_train and resize\n",
    "for image in train_imgs:\n",
    "    image = cv2.resize(image, (180, 180))\n",
    "    New_Images.append(image)\n",
    "\n",
    "# Convert the list of resized images back to a NumPy array\n",
    "    New_Train = np.array(New_Images)"
   ]
  },
  {
   "cell_type": "code",
   "execution_count": 13,
   "metadata": {},
   "outputs": [
    {
     "data": {
      "text/plain": [
       "539"
      ]
     },
     "execution_count": 13,
     "metadata": {},
     "output_type": "execute_result"
    }
   ],
   "source": [
    "len(New_Images)"
   ]
  },
  {
   "cell_type": "code",
   "execution_count": 14,
   "metadata": {
    "id": "wpoZ9BnnbHj4"
   },
   "outputs": [],
   "source": [
    "New_Images = []\n",
    "# Loop through each image in X_train and resize\n",
    "for image in test_imgs:\n",
    "    image = cv2.resize(image, (180, 180))\n",
    "    New_Images.append(image)\n",
    "\n",
    "# Convert the list of resized images back to a NumPy array\n",
    "New_Test = np.array(New_Images)"
   ]
  },
  {
   "cell_type": "code",
   "execution_count": 15,
   "metadata": {
    "colab": {
     "base_uri": "https://localhost:8080/"
    },
    "id": "Ar0G0F7AbbOR",
    "outputId": "486a776f-f01e-4488-a8ef-e317f869c6cf"
   },
   "outputs": [
    {
     "name": "stdout",
     "output_type": "stream",
     "text": [
      "229\n"
     ]
    }
   ],
   "source": [
    "print(len(New_Test))"
   ]
  },
  {
   "cell_type": "code",
   "execution_count": 16,
   "metadata": {},
   "outputs": [
    {
     "data": {
      "text/plain": [
       "<matplotlib.image.AxesImage at 0x1ad08872ee0>"
      ]
     },
     "execution_count": 16,
     "metadata": {},
     "output_type": "execute_result"
    },
    {
     "data": {
      "image/png": "[encoded data removed]",
      "text/plain": [
       "<Figure size 432x288 with 1 Axes>"
      ]
     },
     "metadata": {
      "needs_background": "light"
     },
     "output_type": "display_data"
    }
   ],
   "source": [
    "plt.imshow(New_Test[0])"
   ]
  },
  {
   "cell_type": "markdown",
   "metadata": {
    "id": "XfhGXWMfkbI_"
   },
   "source": [
    "# Normalize images"
   ]
  },
  {
   "cell_type": "code",
   "execution_count": 17,
   "metadata": {
    "id": "jwmgRcC6kb40"
   },
   "outputs": [],
   "source": [
    "New_Train = New_Train/255\n",
    "New_Test = New_Test/255"
   ]
  },
  {
   "cell_type": "code",
   "execution_count": 18,
   "metadata": {
    "id": "xv_Jv4wERGth"
   },
   "outputs": [
    {
     "name": "stdout",
     "output_type": "stream",
     "text": [
      "(180, 180, 3)\n"
     ]
    }
   ],
   "source": [
    "print(New_Train[0].shape)"
   ]
  },
  {
   "cell_type": "code",
   "execution_count": 19,
   "metadata": {
    "id": "ij3CHXmDcQYF"
   },
   "outputs": [],
   "source": [
    "Train_feature = New_Train.reshape(New_Train.shape[0], -1)\n",
    "Test_feature = New_Test.reshape(New_Test.shape[0], -1)"
   ]
  },
  {
   "cell_type": "code",
   "execution_count": 20,
   "metadata": {
    "colab": {
     "base_uri": "https://localhost:8080/"
    },
    "id": "MPbTUyZOcu6n",
    "outputId": "f32b7f37-45ae-49c9-cab7-c20d494db99d"
   },
   "outputs": [
    {
     "data": {
      "text/plain": [
       "(539, 97200)"
      ]
     },
     "execution_count": 20,
     "metadata": {},
     "output_type": "execute_result"
    }
   ],
   "source": [
    "Train_feature.shape"
   ]
  },
  {
   "cell_type": "code",
   "execution_count": 21,
   "metadata": {},
   "outputs": [
    {
     "name": "stdout",
     "output_type": "stream",
     "text": [
      "<class 'numpy.ndarray'>\n"
     ]
    }
   ],
   "source": [
    "print(type(Train_feature))"
   ]
  },
  {
   "cell_type": "code",
   "execution_count": 22,
   "metadata": {
    "id": "B7w2sqvmHp2V"
   },
   "outputs": [],
   "source": [
    "from imblearn.over_sampling import SMOTE\n",
    "from imblearn.combine import SMOTETomek\n",
    "smote = SMOTETomek(random_state=42,  sampling_strategy='auto')\n",
    "smote.fit(Train_feature, train_label)\n",
    "X_resampled, y_resampled = smote.fit_resample(Train_feature, train_label)"
   ]
  },
  {
   "cell_type": "code",
   "execution_count": 23,
   "metadata": {
    "id": "ApBu4PKSd2XN"
   },
   "outputs": [],
   "source": [
    "# Split data into train and test sets\n",
    "X_train, X_test, y_train, y_test = train_test_split(X_resampled, y_resampled  , test_size=0.3, random_state=42)"
   ]
  },
  {
   "cell_type": "code",
   "execution_count": null,
   "metadata": {},
   "outputs": [],
   "source": [
    "# X_train, X_test, y_train, y_test"
   ]
  },
  {
   "cell_type": "code",
   "execution_count": null,
   "metadata": {
    "colab": {
     "base_uri": "https://localhost:8080/"
    },
    "id": "POWIYUVjeZxB",
    "outputId": "3090dd2b-86ee-4e9e-ffd8-43d186e646e7"
   },
   "outputs": [],
   "source": [
    "# X_train.shape, X_test.shape, y_train.shape, y_test.shape"
   ]
  },
  {
   "cell_type": "code",
   "execution_count": 24,
   "metadata": {
    "id": "xl5hNoJKdiSz"
   },
   "outputs": [],
   "source": [
    "pca = PCA(n_components=180 )  # You can adjust the number of components\n",
    "X_train_pca = pca.fit_transform(X_train)\n",
    "X_test_pca = pca.transform(X_test)"
   ]
  },
  {
   "cell_type": "code",
   "execution_count": 26,
   "metadata": {},
   "outputs": [],
   "source": [
    "\n",
    "pickle.dump(pca,open('pca.sav','wb'))"
   ]
  },
  {
   "cell_type": "code",
   "execution_count": 27,
   "metadata": {},
   "outputs": [],
   "source": [
    "pcc = pickle.load(open('pca.sav','rb'))"
   ]
  },
  {
   "cell_type": "code",
   "execution_count": 29,
   "metadata": {
    "colab": {
     "base_uri": "https://localhost:8080/"
    },
    "id": "s2j2Ry_temqU",
    "outputId": "94aa88c5-360a-4630-d4d8-1f77914cb3be"
   },
   "outputs": [
    {
     "data": {
      "text/plain": [
       "((625, 180), (269, 180))"
      ]
     },
     "execution_count": 29,
     "metadata": {},
     "output_type": "execute_result"
    }
   ],
   "source": [
    "X_train_pca.shape, X_test_pca.shape"
   ]
  },
  {
   "cell_type": "markdown",
   "metadata": {
    "id": "XLJSt62KexP0"
   },
   "source": [
    "# **Modeling**"
   ]
  },
  {
   "cell_type": "code",
   "execution_count": 36,
   "metadata": {
    "scrolled": true
   },
   "outputs": [
    {
     "name": "stdout",
     "output_type": "stream",
     "text": [
      "Fitting 5 folds for each of 500 candidates, totalling 2500 fits\n",
      "Classification Report:\n",
      "               precision    recall  f1-score   support\n",
      "\n",
      "      Benign       0.77      0.93      0.84        54\n",
      "   Malignant       0.98      0.80      0.88        65\n",
      "      Normal       0.92      0.93      0.93        61\n",
      "\n",
      "    accuracy                           0.88       180\n",
      "   macro avg       0.89      0.89      0.88       180\n",
      "weighted avg       0.90      0.88      0.88       180\n",
      "\n",
      "Best Parameters: {'shrinking': True, 'kernel': 'rbf', 'gamma': 0.001, 'degree': 2, 'decision_function_shape': 'ovo', 'coef0': 2, 'class_weight': None, 'C': 6}\n",
      "Best F1-score: 0.8844604012198789\n",
      "Accuracy for best  0.8833333333333333\n"
     ]
    }
   ],
   "source": [
    "from sklearn.model_selection import RandomizedSearchCV\n",
    "from sklearn.metrics import make_scorer, f1_score\n",
    "\n",
    "param_grid = {\n",
    "    'C': [0.01, 0.1, 1,2,3,4,5,6,7,8,9 ,10,20,30,35,50,75,90, 100],\n",
    "    'gamma': [0.00001, 0.0001, 0.001, 0.01, 0.1, 1, 'scale', 'auto'],\n",
    "    'kernel': ['linear', 'rbf', 'poly', 'sigmoid'],\n",
    "    'degree': [2, 3, 4, 5],\n",
    "    'coef0': [-2, -1, 0, 1, 2],\n",
    "    'shrinking': [True, False],\n",
    "    'class_weight': [None, 'balanced'],\n",
    "    'decision_function_shape': ['ovo', 'ovr']\n",
    "    # Add more hyperparameters and values here as needed\n",
    "}\n",
    "\n",
    "\n",
    "svm_classifier = SVC()\n",
    "\n",
    "# Create a scorer using F1-score\n",
    "scorer = make_scorer(f1_score, average='weighted')\n",
    "\n",
    "# Initialize RandomizedSearchCV\n",
    "random_search = RandomizedSearchCV(\n",
    "    svm_classifier,\n",
    "    param_distributions=param_grid,\n",
    "    scoring=scorer,\n",
    "    n_iter=500,  # Number of parameter settings that are sampled\n",
    "    cv=5,       # Number of folds in cross-validation\n",
    "    verbose=2,\n",
    "    n_jobs=-1   # Use all available CPU cores\n",
    ")\n",
    "\n",
    "# Fit the RandomizedSearchCV on your training data\n",
    "random_search.fit(X_train_pca, y_train)\n",
    "\n",
    "# Get the best estimator from the search\n",
    "best_svm_classifier = random_search.best_estimator_\n",
    "\n",
    "# Make predictions using the best model\n",
    "y_pred1 = best_svm_classifier.predict(X_train_pca)\n",
    "y_pred2 = best_svm_classifier.predict(X_test_pca)\n",
    "\n",
    "# Calculate F1-score on the test set\n",
    "f1_test_score = f1_score(y_test, y_pred2, average='weighted')\n",
    "accuracy2 = accuracy_score(y_test, y_pred2)\n",
    "# Generate classification report\n",
    "class_report2 = classification_report(y_test, y_pred2)\n",
    "print(\"Classification Report:\\n\", class_report2)\n",
    "\n",
    "print(\"Best Parameters:\", random_search.best_params_)\n",
    "print(\"Best F1-score:\", f1_test_score)\n",
    "print('Accuracy for best ',accuracy2)"
   ]
  },
  {
   "cell_type": "code",
   "execution_count": 31,
   "metadata": {
    "colab": {
     "base_uri": "https://localhost:8080/"
    },
    "id": "6ZwBMGhHeuiS",
    "outputId": "5cd44171-f157-4fe4-93d5-fd98026796d8",
    "scrolled": true
   },
   "outputs": [
    {
     "name": "stdout",
     "output_type": "stream",
     "text": [
      "Accuracy2: 0.9219330855018587\n",
      "F1 weightd score 0.9210271731684433\n",
      "Confusion Matrix1:\n",
      " [[81  8  7]\n",
      " [ 3 83  2]\n",
      " [ 1  0 84]]\n",
      "Classification Report:\n",
      "               precision    recall  f1-score   support\n",
      "\n",
      "      Benign       0.95      0.84      0.90        96\n",
      "   Malignant       0.91      0.94      0.93        88\n",
      "      Normal       0.90      0.99      0.94        85\n",
      "\n",
      "    accuracy                           0.92       269\n",
      "   macro avg       0.92      0.93      0.92       269\n",
      "weighted avg       0.92      0.92      0.92       269\n",
      "\n"
     ]
    }
   ],
   "source": [
    "from sklearn.metrics import make_scorer, f1_score\n",
    "svm_classifier = SVC(kernel='rbf', C=6, gamma=0.001,class_weight=None,decision_function_shape='ovo',shrinking=True)\n",
    "svm_classifier.fit(X_train_pca, y_train)\n",
    "\n",
    "# Make predictions\n",
    "y_pred1 = svm_classifier.predict(X_train_pca)\n",
    "y_pred2 = svm_classifier.predict(X_test_pca)\n",
    "\n",
    "\n",
    "accuracy2 = accuracy_score(y_test, y_pred2)\n",
    "f1_test_score = f1_score(y_test, y_pred2, average='weighted')\n",
    "\n",
    "\n",
    "print(\"Accuracy2:\", accuracy2)\n",
    "print(\"F1 weightd score\",f1_test_score)\n",
    "# Calculate confusion matrix\n",
    "conf_matrix2 = confusion_matrix(y_test, y_pred2)\n",
    "print(\"Confusion Matrix1:\\n\", conf_matrix2)\n",
    "\n",
    "# Generate classification report\n",
    "class_report2 = classification_report(y_test, y_pred2)\n",
    "\n",
    "print(\"Classification Report:\\n\", class_report2)"
   ]
  },
  {
   "cell_type": "code",
   "execution_count": 32,
   "metadata": {
    "id": "E7sj4UpUgu_Z"
   },
   "outputs": [],
   "source": [
    "X_test_pca_sub = pca.transform(Test_feature)\n",
    "predictions = svm_classifier.predict(X_test_pca_sub)"
   ]
  },
  {
   "cell_type": "code",
   "execution_count": 33,
   "metadata": {},
   "outputs": [],
   "source": [
    "pickle.dump(svm_classifier,open('model_SVM.sav','wb'))"
   ]
  },
  {
   "cell_type": "code",
   "execution_count": 34,
   "metadata": {
    "colab": {
     "base_uri": "https://localhost:8080/",
     "height": 424
    },
    "id": "-qdUavqwhDEH",
    "outputId": "77d766b6-1122-447e-9b32-59439c190d2a",
    "scrolled": true
   },
   "outputs": [
    {
     "data": {
      "text/html": [
       "<div>\n",
       "<style scoped>\n",
       "    .dataframe tbody tr th:only-of-type {\n",
       "        vertical-align: middle;\n",
       "    }\n",
       "\n",
       "    .dataframe tbody tr th {\n",
       "        vertical-align: top;\n",
       "    }\n",
       "\n",
       "    .dataframe thead th {\n",
       "        text-align: right;\n",
       "    }\n",
       "</style>\n",
       "<table border=\"1\" class=\"dataframe\">\n",
       "  <thead>\n",
       "    <tr style=\"text-align: right;\">\n",
       "      <th></th>\n",
       "      <th>Id</th>\n",
       "      <th>Class</th>\n",
       "    </tr>\n",
       "  </thead>\n",
       "  <tbody>\n",
       "    <tr>\n",
       "      <th>0</th>\n",
       "      <td>8560</td>\n",
       "      <td>A</td>\n",
       "    </tr>\n",
       "    <tr>\n",
       "      <th>1</th>\n",
       "      <td>7920</td>\n",
       "      <td>A</td>\n",
       "    </tr>\n",
       "    <tr>\n",
       "      <th>2</th>\n",
       "      <td>8993</td>\n",
       "      <td>A</td>\n",
       "    </tr>\n",
       "    <tr>\n",
       "      <th>3</th>\n",
       "      <td>8126</td>\n",
       "      <td>A</td>\n",
       "    </tr>\n",
       "    <tr>\n",
       "      <th>4</th>\n",
       "      <td>9912</td>\n",
       "      <td>A</td>\n",
       "    </tr>\n",
       "    <tr>\n",
       "      <th>...</th>\n",
       "      <td>...</td>\n",
       "      <td>...</td>\n",
       "    </tr>\n",
       "    <tr>\n",
       "      <th>224</th>\n",
       "      <td>8343</td>\n",
       "      <td>A</td>\n",
       "    </tr>\n",
       "    <tr>\n",
       "      <th>225</th>\n",
       "      <td>1255</td>\n",
       "      <td>A</td>\n",
       "    </tr>\n",
       "    <tr>\n",
       "      <th>226</th>\n",
       "      <td>4573</td>\n",
       "      <td>A</td>\n",
       "    </tr>\n",
       "    <tr>\n",
       "      <th>227</th>\n",
       "      <td>3919</td>\n",
       "      <td>A</td>\n",
       "    </tr>\n",
       "    <tr>\n",
       "      <th>228</th>\n",
       "      <td>3249</td>\n",
       "      <td>A</td>\n",
       "    </tr>\n",
       "  </tbody>\n",
       "</table>\n",
       "<p>229 rows × 2 columns</p>\n",
       "</div>"
      ],
      "text/plain": [
       "       Id Class\n",
       "0    8560     A\n",
       "1    7920     A\n",
       "2    8993     A\n",
       "3    8126     A\n",
       "4    9912     A\n",
       "..    ...   ...\n",
       "224  8343     A\n",
       "225  1255     A\n",
       "226  4573     A\n",
       "227  3919     A\n",
       "228  3249     A\n",
       "\n",
       "[229 rows x 2 columns]"
      ]
     },
     "execution_count": 34,
     "metadata": {},
     "output_type": "execute_result"
    }
   ],
   "source": [
    "submit = pd.read_csv('sample_submition4.csv')\n",
    "submit"
   ]
  }
 ],
 "metadata": {
  "accelerator": "TPU",
  "colab": {
   "provenance": []
  },
  "kernelspec": {
   "display_name": "Python 3 (ipykernel)",
   "language": "python",
   "name": "python3"
  },
  "language_info": {
   "codemirror_mode": {
    "name": "ipython",
    "version": 3
   },
   "file_extension": ".py",
   "mimetype": "text/x-python",
   "name": "python",
   "nbconvert_exporter": "python",
   "pygments_lexer": "ipython3",
   "version": "3.9.12"
  }
 },
 "nbformat": 4,
 "nbformat_minor": 1
}
